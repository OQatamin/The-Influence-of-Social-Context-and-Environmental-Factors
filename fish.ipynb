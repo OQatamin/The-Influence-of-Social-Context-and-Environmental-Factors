{
 "cells": [
  {
   "cell_type": "code",
   "execution_count": 1,
   "metadata": {},
   "outputs": [
    {
     "data": {
      "text/html": [
       "<div>\n",
       "<style scoped>\n",
       "    .dataframe tbody tr th:only-of-type {\n",
       "        vertical-align: middle;\n",
       "    }\n",
       "\n",
       "    .dataframe tbody tr th {\n",
       "        vertical-align: top;\n",
       "    }\n",
       "\n",
       "    .dataframe thead th {\n",
       "        text-align: right;\n",
       "    }\n",
       "</style>\n",
       "<table border=\"1\" class=\"dataframe\">\n",
       "  <thead>\n",
       "    <tr style=\"text-align: right;\">\n",
       "      <th></th>\n",
       "      <th>ID</th>\n",
       "      <th>VIE</th>\n",
       "      <th>STAGE</th>\n",
       "      <th>TREATMENT</th>\n",
       "      <th>Large_location</th>\n",
       "      <th>TRIAL</th>\n",
       "      <th>ARENA</th>\n",
       "      <th>OBSERVER</th>\n",
       "      <th>Front_entries</th>\n",
       "      <th>Back_entries</th>\n",
       "      <th>Time_LargeShoal</th>\n",
       "      <th>Time_SmallShoal</th>\n",
       "      <th>Total_time_Shoal</th>\n",
       "      <th>Mean_time_LargeShoal</th>\n",
       "      <th>Time_NotShoaling</th>\n",
       "      <th>Time_NotShoalingLarge</th>\n",
       "      <th>Time_freezing</th>\n",
       "      <th>Time_moving</th>\n",
       "    </tr>\n",
       "  </thead>\n",
       "  <tbody>\n",
       "    <tr>\n",
       "      <th>0</th>\n",
       "      <td>1</td>\n",
       "      <td>BB</td>\n",
       "      <td>After</td>\n",
       "      <td>Group</td>\n",
       "      <td>Back</td>\n",
       "      <td>2</td>\n",
       "      <td>6</td>\n",
       "      <td>AM</td>\n",
       "      <td>0</td>\n",
       "      <td>3</td>\n",
       "      <td>42.785</td>\n",
       "      <td>0.000</td>\n",
       "      <td>42.785</td>\n",
       "      <td>14.261667</td>\n",
       "      <td>557.215</td>\n",
       "      <td>557.215</td>\n",
       "      <td>359.463</td>\n",
       "      <td>238.320</td>\n",
       "    </tr>\n",
       "    <tr>\n",
       "      <th>1</th>\n",
       "      <td>1</td>\n",
       "      <td>BB</td>\n",
       "      <td>After</td>\n",
       "      <td>Group</td>\n",
       "      <td>Front</td>\n",
       "      <td>1</td>\n",
       "      <td>6</td>\n",
       "      <td>AM</td>\n",
       "      <td>2</td>\n",
       "      <td>2</td>\n",
       "      <td>8.108</td>\n",
       "      <td>29.388</td>\n",
       "      <td>37.496</td>\n",
       "      <td>4.054000</td>\n",
       "      <td>562.504</td>\n",
       "      <td>591.892</td>\n",
       "      <td>270.026</td>\n",
       "      <td>328.203</td>\n",
       "    </tr>\n",
       "    <tr>\n",
       "      <th>2</th>\n",
       "      <td>5</td>\n",
       "      <td>RR</td>\n",
       "      <td>After</td>\n",
       "      <td>Solitary</td>\n",
       "      <td>Back</td>\n",
       "      <td>1</td>\n",
       "      <td>5</td>\n",
       "      <td>AM</td>\n",
       "      <td>12</td>\n",
       "      <td>16</td>\n",
       "      <td>192.802</td>\n",
       "      <td>65.450</td>\n",
       "      <td>258.252</td>\n",
       "      <td>12.050125</td>\n",
       "      <td>341.748</td>\n",
       "      <td>407.198</td>\n",
       "      <td>5.229</td>\n",
       "      <td>583.266</td>\n",
       "    </tr>\n",
       "    <tr>\n",
       "      <th>3</th>\n",
       "      <td>5</td>\n",
       "      <td>RR</td>\n",
       "      <td>After</td>\n",
       "      <td>Solitary</td>\n",
       "      <td>Back</td>\n",
       "      <td>2</td>\n",
       "      <td>5</td>\n",
       "      <td>AM</td>\n",
       "      <td>15</td>\n",
       "      <td>15</td>\n",
       "      <td>264.718</td>\n",
       "      <td>158.420</td>\n",
       "      <td>423.138</td>\n",
       "      <td>17.647867</td>\n",
       "      <td>176.862</td>\n",
       "      <td>335.282</td>\n",
       "      <td>5.250</td>\n",
       "      <td>588.560</td>\n",
       "    </tr>\n",
       "    <tr>\n",
       "      <th>4</th>\n",
       "      <td>15</td>\n",
       "      <td>OR</td>\n",
       "      <td>After</td>\n",
       "      <td>Solitary</td>\n",
       "      <td>Back</td>\n",
       "      <td>2</td>\n",
       "      <td>2</td>\n",
       "      <td>AM</td>\n",
       "      <td>11</td>\n",
       "      <td>9</td>\n",
       "      <td>103.448</td>\n",
       "      <td>121.940</td>\n",
       "      <td>225.388</td>\n",
       "      <td>11.494222</td>\n",
       "      <td>374.612</td>\n",
       "      <td>496.552</td>\n",
       "      <td>16.885</td>\n",
       "      <td>483.234</td>\n",
       "    </tr>\n",
       "  </tbody>\n",
       "</table>\n",
       "</div>"
      ],
      "text/plain": [
       "   ID  VIE  STAGE TREATMENT Large_location  TRIAL  ARENA OBSERVER  \\\n",
       "0   1   BB  After     Group           Back      2      6       AM   \n",
       "1   1   BB  After     Group          Front      1      6       AM   \n",
       "2   5   RR  After  Solitary           Back      1      5       AM   \n",
       "3   5   RR  After  Solitary           Back      2      5       AM   \n",
       "4  15   OR  After  Solitary           Back      2      2       AM   \n",
       "\n",
       "   Front_entries  Back_entries  Time_LargeShoal  Time_SmallShoal  \\\n",
       "0              0             3           42.785            0.000   \n",
       "1              2             2            8.108           29.388   \n",
       "2             12            16          192.802           65.450   \n",
       "3             15            15          264.718          158.420   \n",
       "4             11             9          103.448          121.940   \n",
       "\n",
       "   Total_time_Shoal  Mean_time_LargeShoal  Time_NotShoaling  \\\n",
       "0            42.785             14.261667           557.215   \n",
       "1            37.496              4.054000           562.504   \n",
       "2           258.252             12.050125           341.748   \n",
       "3           423.138             17.647867           176.862   \n",
       "4           225.388             11.494222           374.612   \n",
       "\n",
       "   Time_NotShoalingLarge  Time_freezing   Time_moving  \n",
       "0                557.215        359.463       238.320  \n",
       "1                591.892        270.026       328.203  \n",
       "2                407.198          5.229       583.266  \n",
       "3                335.282          5.250       588.560  \n",
       "4                496.552         16.885       483.234  "
      ]
     },
     "execution_count": 1,
     "metadata": {},
     "output_type": "execute_result"
    }
   ],
   "source": [
    "import pandas as pd\n",
    "\n",
    "data = pd.read_csv('MUNSON_(2021)_AnimBehav_data.csv')\n",
    "\n",
    "data.head()\n"
   ]
  },
  {
   "cell_type": "markdown",
   "metadata": {},
   "source": [
    "## checking for missings"
   ]
  },
  {
   "cell_type": "code",
   "execution_count": 2,
   "metadata": {},
   "outputs": [
    {
     "data": {
      "text/plain": [
       "ID                       0\n",
       "VIE                      0\n",
       "STAGE                    0\n",
       "TREATMENT                0\n",
       "Large_location           0\n",
       "TRIAL                    0\n",
       "ARENA                    0\n",
       "OBSERVER                 0\n",
       "Front_entries            0\n",
       "Back_entries             0\n",
       "Time_LargeShoal          0\n",
       "Time_SmallShoal          0\n",
       "Total_time_Shoal         0\n",
       "Mean_time_LargeShoal     0\n",
       "Time_NotShoaling         0\n",
       "Time_NotShoalingLarge    0\n",
       "Time_freezing            0\n",
       " Time_moving             0\n",
       "dtype: int64"
      ]
     },
     "execution_count": 2,
     "metadata": {},
     "output_type": "execute_result"
    }
   ],
   "source": [
    "missing_values = data.isnull().sum()\n",
    "summary_statistics = data.describe()\n",
    "\n",
    "missing_values\n"
   ]
  },
  {
   "cell_type": "code",
   "execution_count": 4,
   "metadata": {},
   "outputs": [
    {
     "data": {
      "image/png": "[encoded data removed]",
      "text/plain": [
       "<Figure size 1400x1000 with 4 Axes>"
      ]
     },
     "metadata": {},
     "output_type": "display_data"
    }
   ],
   "source": [
    "import seaborn as sns\n",
    "import matplotlib.pyplot as plt\n",
    "\n",
    "pre_treatment_data = data[data['STAGE'] == 'Before']\n",
    "post_treatment_data = data[data['STAGE'] == 'After']\n",
    "metrics = ['Total_time_Shoal', 'Time_LargeShoal', 'Time_SmallShoal', 'Time_freezing']\n",
    "fig, axes = plt.subplots(nrows=2, ncols=2, figsize=(14, 10))\n",
    "fig.suptitle('Comparison of Shoaling Behavior: Pre-Treatment vs. Post-Treatment')\n",
    "axes = axes.flatten()\n",
    "for i, metric in enumerate(metrics):\n",
    "    combined_data = pd.concat([\n",
    "        pre_treatment_data[[metric]].assign(Stage='Before'),\n",
    "        post_treatment_data[[metric]].assign(Stage='After')\n",
    "    ]) \n",
    "    sns.boxplot(ax=axes[i], data=combined_data, x='Stage', y=metric)\n",
    "    axes[i].set_title(metric.replace('_', ' '))\n",
    "plt.tight_layout(rect=[0, 0.03, 1, 0.95])\n",
    "plt.show()\n"
   ]
  },
  {
   "cell_type": "markdown",
   "metadata": {},
   "source": [
    "## compare pre-treatment and post-treatment behaviors across two treatment types (Group and Solitary)"
   ]
  },
  {
   "cell_type": "code",
   "execution_count": 5,
   "metadata": {},
   "outputs": [
    {
     "data": {
      "text/html": [
       "<div>\n",
       "<style scoped>\n",
       "    .dataframe tbody tr th:only-of-type {\n",
       "        vertical-align: middle;\n",
       "    }\n",
       "\n",
       "    .dataframe tbody tr th {\n",
       "        vertical-align: top;\n",
       "    }\n",
       "\n",
       "    .dataframe thead th {\n",
       "        text-align: right;\n",
       "    }\n",
       "</style>\n",
       "<table border=\"1\" class=\"dataframe\">\n",
       "  <thead>\n",
       "    <tr style=\"text-align: right;\">\n",
       "      <th></th>\n",
       "      <th></th>\n",
       "      <th>T-Statistic</th>\n",
       "      <th>P-Value</th>\n",
       "    </tr>\n",
       "    <tr>\n",
       "      <th>Metric</th>\n",
       "      <th>Treatment Type</th>\n",
       "      <th></th>\n",
       "      <th></th>\n",
       "    </tr>\n",
       "  </thead>\n",
       "  <tbody>\n",
       "    <tr>\n",
       "      <th rowspan=\"2\" valign=\"top\">Total_time_Shoal</th>\n",
       "      <th>Group</th>\n",
       "      <td>-0.358382</td>\n",
       "      <td>7.204047e-01</td>\n",
       "    </tr>\n",
       "    <tr>\n",
       "      <th>Solitary</th>\n",
       "      <td>-5.704841</td>\n",
       "      <td>7.436546e-08</td>\n",
       "    </tr>\n",
       "    <tr>\n",
       "      <th rowspan=\"2\" valign=\"top\">Time_LargeShoal</th>\n",
       "      <th>Group</th>\n",
       "      <td>-1.475171</td>\n",
       "      <td>1.416106e-01</td>\n",
       "    </tr>\n",
       "    <tr>\n",
       "      <th>Solitary</th>\n",
       "      <td>-4.786629</td>\n",
       "      <td>4.650076e-06</td>\n",
       "    </tr>\n",
       "    <tr>\n",
       "      <th rowspan=\"2\" valign=\"top\">Time_SmallShoal</th>\n",
       "      <th>Group</th>\n",
       "      <td>2.379108</td>\n",
       "      <td>1.826675e-02</td>\n",
       "    </tr>\n",
       "    <tr>\n",
       "      <th>Solitary</th>\n",
       "      <td>-1.500020</td>\n",
       "      <td>1.360474e-01</td>\n",
       "    </tr>\n",
       "    <tr>\n",
       "      <th rowspan=\"2\" valign=\"top\">Time_freezing</th>\n",
       "      <th>Group</th>\n",
       "      <td>-2.509703</td>\n",
       "      <td>1.286417e-02</td>\n",
       "    </tr>\n",
       "    <tr>\n",
       "      <th>Solitary</th>\n",
       "      <td>-2.780476</td>\n",
       "      <td>6.473978e-03</td>\n",
       "    </tr>\n",
       "  </tbody>\n",
       "</table>\n",
       "</div>"
      ],
      "text/plain": [
       "                                 T-Statistic       P-Value\n",
       "Metric           Treatment Type                           \n",
       "Total_time_Shoal Group             -0.358382  7.204047e-01\n",
       "                 Solitary          -5.704841  7.436546e-08\n",
       "Time_LargeShoal  Group             -1.475171  1.416106e-01\n",
       "                 Solitary          -4.786629  4.650076e-06\n",
       "Time_SmallShoal  Group              2.379108  1.826675e-02\n",
       "                 Solitary          -1.500020  1.360474e-01\n",
       "Time_freezing    Group             -2.509703  1.286417e-02\n",
       "                 Solitary          -2.780476  6.473978e-03"
      ]
     },
     "execution_count": 5,
     "metadata": {},
     "output_type": "execute_result"
    }
   ],
   "source": [
    "from scipy.stats import ttest_ind\n",
    "def perform_t_test(metric, treatment_type):\n",
    "    pre_data = pre_treatment_data[pre_treatment_data['TREATMENT'] == treatment_type][metric]\n",
    "    post_data = post_treatment_data[post_treatment_data['TREATMENT'] == treatment_type][metric]\n",
    "    t_stat, p_value = ttest_ind(pre_data, post_data, equal_var=False)  \n",
    "    return t_stat, p_value\n",
    "treatment_types = ['Group', 'Solitary']\n",
    "analysis_results = {}\n",
    "for metric in metrics:\n",
    "    for treatment_type in treatment_types:\n",
    "        t_stat, p_value = perform_t_test(metric, treatment_type)\n",
    "        analysis_results[(metric, treatment_type)] = {'T-Statistic': t_stat, 'P-Value': p_value}\n",
    "analysis_results_df = pd.DataFrame.from_dict(analysis_results, orient='index')\n",
    "analysis_results_df.index.names = ['Metric', 'Treatment Type']\n",
    "analysis_results_df\n"
   ]
  },
  {
   "cell_type": "markdown",
   "metadata": {},
   "source": [
    "##  how different arenas impact the amount of time that individuals spend in a large or small shoal"
   ]
  },
  {
   "cell_type": "code",
   "execution_count": 6,
   "metadata": {},
   "outputs": [
    {
     "data": {
      "text/html": [
       "<div>\n",
       "<style scoped>\n",
       "    .dataframe tbody tr th:only-of-type {\n",
       "        vertical-align: middle;\n",
       "    }\n",
       "\n",
       "    .dataframe tbody tr th {\n",
       "        vertical-align: top;\n",
       "    }\n",
       "\n",
       "    .dataframe thead th {\n",
       "        text-align: right;\n",
       "    }\n",
       "</style>\n",
       "<table border=\"1\" class=\"dataframe\">\n",
       "  <thead>\n",
       "    <tr style=\"text-align: right;\">\n",
       "      <th></th>\n",
       "      <th>Time_LargeShoal</th>\n",
       "      <th>Time_SmallShoal</th>\n",
       "      <th>Front_entries</th>\n",
       "      <th>Back_entries</th>\n",
       "    </tr>\n",
       "    <tr>\n",
       "      <th>ARENA</th>\n",
       "      <th></th>\n",
       "      <th></th>\n",
       "      <th></th>\n",
       "      <th></th>\n",
       "    </tr>\n",
       "  </thead>\n",
       "  <tbody>\n",
       "    <tr>\n",
       "      <th>1</th>\n",
       "      <td>201.280386</td>\n",
       "      <td>102.691000</td>\n",
       "      <td>12.526316</td>\n",
       "      <td>11.771930</td>\n",
       "    </tr>\n",
       "    <tr>\n",
       "      <th>2</th>\n",
       "      <td>184.216714</td>\n",
       "      <td>92.008321</td>\n",
       "      <td>11.571429</td>\n",
       "      <td>10.500000</td>\n",
       "    </tr>\n",
       "    <tr>\n",
       "      <th>3</th>\n",
       "      <td>195.879226</td>\n",
       "      <td>110.289065</td>\n",
       "      <td>11.080645</td>\n",
       "      <td>11.032258</td>\n",
       "    </tr>\n",
       "    <tr>\n",
       "      <th>4</th>\n",
       "      <td>196.697035</td>\n",
       "      <td>91.480035</td>\n",
       "      <td>12.596491</td>\n",
       "      <td>12.122807</td>\n",
       "    </tr>\n",
       "    <tr>\n",
       "      <th>5</th>\n",
       "      <td>171.809763</td>\n",
       "      <td>94.705254</td>\n",
       "      <td>13.305085</td>\n",
       "      <td>12.593220</td>\n",
       "    </tr>\n",
       "    <tr>\n",
       "      <th>6</th>\n",
       "      <td>182.543848</td>\n",
       "      <td>82.171303</td>\n",
       "      <td>12.363636</td>\n",
       "      <td>12.424242</td>\n",
       "    </tr>\n",
       "  </tbody>\n",
       "</table>\n",
       "</div>"
      ],
      "text/plain": [
       "       Time_LargeShoal  Time_SmallShoal  Front_entries  Back_entries\n",
       "ARENA                                                               \n",
       "1           201.280386       102.691000      12.526316     11.771930\n",
       "2           184.216714        92.008321      11.571429     10.500000\n",
       "3           195.879226       110.289065      11.080645     11.032258\n",
       "4           196.697035        91.480035      12.596491     12.122807\n",
       "5           171.809763        94.705254      13.305085     12.593220\n",
       "6           182.543848        82.171303      12.363636     12.424242"
      ]
     },
     "execution_count": 6,
     "metadata": {},
     "output_type": "execute_result"
    }
   ],
   "source": [
    "arena_metrics = ['Time_LargeShoal', 'Time_SmallShoal', 'Front_entries', 'Back_entries']\n",
    "arena_impact = data.groupby('ARENA')[arena_metrics].mean()\n",
    "arena_impact\n"
   ]
  },
  {
   "cell_type": "markdown",
   "metadata": {},
   "source": [
    "## the effects of social context on individual variation in shoaling behaviour among stickleback populations"
   ]
  },
  {
   "cell_type": "code",
   "execution_count": 7,
   "metadata": {},
   "outputs": [
    {
     "data": {
      "text/html": [
       "<div>\n",
       "<style scoped>\n",
       "    .dataframe tbody tr th:only-of-type {\n",
       "        vertical-align: middle;\n",
       "    }\n",
       "\n",
       "    .dataframe tbody tr th {\n",
       "        vertical-align: top;\n",
       "    }\n",
       "\n",
       "    .dataframe thead th {\n",
       "        text-align: right;\n",
       "    }\n",
       "</style>\n",
       "<table border=\"1\" class=\"dataframe\">\n",
       "  <thead>\n",
       "    <tr style=\"text-align: right;\">\n",
       "      <th></th>\n",
       "      <th>Time_LargeShoal</th>\n",
       "      <th>Time_SmallShoal</th>\n",
       "      <th>Front_entries</th>\n",
       "      <th>Back_entries</th>\n",
       "      <th>Time_freezing</th>\n",
       "    </tr>\n",
       "    <tr>\n",
       "      <th>TREATMENT</th>\n",
       "      <th></th>\n",
       "      <th></th>\n",
       "      <th></th>\n",
       "      <th></th>\n",
       "      <th></th>\n",
       "    </tr>\n",
       "  </thead>\n",
       "  <tbody>\n",
       "    <tr>\n",
       "      <th>Group</th>\n",
       "      <td>180.362559</td>\n",
       "      <td>93.525300</td>\n",
       "      <td>12.013636</td>\n",
       "      <td>11.063636</td>\n",
       "      <td>55.661773</td>\n",
       "    </tr>\n",
       "    <tr>\n",
       "      <th>Solitary</th>\n",
       "      <td>201.826774</td>\n",
       "      <td>98.492606</td>\n",
       "      <td>12.591241</td>\n",
       "      <td>12.868613</td>\n",
       "      <td>44.599606</td>\n",
       "    </tr>\n",
       "  </tbody>\n",
       "</table>\n",
       "</div>"
      ],
      "text/plain": [
       "           Time_LargeShoal  Time_SmallShoal  Front_entries  Back_entries  \\\n",
       "TREATMENT                                                                  \n",
       "Group           180.362559        93.525300      12.013636     11.063636   \n",
       "Solitary        201.826774        98.492606      12.591241     12.868613   \n",
       "\n",
       "           Time_freezing  \n",
       "TREATMENT                 \n",
       "Group          55.661773  \n",
       "Solitary       44.599606  "
      ]
     },
     "execution_count": 7,
     "metadata": {},
     "output_type": "execute_result"
    }
   ],
   "source": [
    "treatment_impact_metrics = ['Time_LargeShoal', 'Time_SmallShoal', 'Front_entries', 'Back_entries', 'Time_freezing']\n",
    "treatment_impact = data.groupby('TREATMENT')[treatment_impact_metrics].mean()\n",
    "treatment_impact\n"
   ]
  },
  {
   "cell_type": "markdown",
   "metadata": {},
   "source": [
    "# Determining Heterogenous Treatment Affects"
   ]
  },
  {
   "cell_type": "markdown",
   "metadata": {},
   "source": [
    "### Subgroup Analysis"
   ]
  },
  {
   "cell_type": "code",
   "execution_count": 8,
   "metadata": {},
   "outputs": [
    {
     "data": {
      "text/html": [
       "<div>\n",
       "<style scoped>\n",
       "    .dataframe tbody tr th:only-of-type {\n",
       "        vertical-align: middle;\n",
       "    }\n",
       "\n",
       "    .dataframe tbody tr th {\n",
       "        vertical-align: top;\n",
       "    }\n",
       "\n",
       "    .dataframe thead th {\n",
       "        text-align: right;\n",
       "    }\n",
       "</style>\n",
       "<table border=\"1\" class=\"dataframe\">\n",
       "  <thead>\n",
       "    <tr style=\"text-align: right;\">\n",
       "      <th></th>\n",
       "      <th></th>\n",
       "      <th>Time_LargeShoal</th>\n",
       "      <th>Time_SmallShoal</th>\n",
       "      <th>Front_entries</th>\n",
       "      <th>Back_entries</th>\n",
       "    </tr>\n",
       "    <tr>\n",
       "      <th></th>\n",
       "      <th>TREATMENT</th>\n",
       "      <th></th>\n",
       "      <th></th>\n",
       "      <th></th>\n",
       "      <th></th>\n",
       "    </tr>\n",
       "  </thead>\n",
       "  <tbody>\n",
       "    <tr>\n",
       "      <th rowspan=\"2\" valign=\"top\">ARENA 1</th>\n",
       "      <th>Group</th>\n",
       "      <td>205.041000</td>\n",
       "      <td>89.844824</td>\n",
       "      <td>11.735294</td>\n",
       "      <td>11.147059</td>\n",
       "    </tr>\n",
       "    <tr>\n",
       "      <th>Solitary</th>\n",
       "      <td>195.721217</td>\n",
       "      <td>121.681000</td>\n",
       "      <td>13.695652</td>\n",
       "      <td>12.695652</td>\n",
       "    </tr>\n",
       "    <tr>\n",
       "      <th rowspan=\"2\" valign=\"top\">ARENA 2</th>\n",
       "      <th>Group</th>\n",
       "      <td>191.953500</td>\n",
       "      <td>90.442250</td>\n",
       "      <td>10.142857</td>\n",
       "      <td>9.678571</td>\n",
       "    </tr>\n",
       "    <tr>\n",
       "      <th>Solitary</th>\n",
       "      <td>176.479929</td>\n",
       "      <td>93.574393</td>\n",
       "      <td>13.000000</td>\n",
       "      <td>11.321429</td>\n",
       "    </tr>\n",
       "    <tr>\n",
       "      <th rowspan=\"2\" valign=\"top\">ARENA 3</th>\n",
       "      <th>Group</th>\n",
       "      <td>163.038176</td>\n",
       "      <td>103.395765</td>\n",
       "      <td>10.764706</td>\n",
       "      <td>9.264706</td>\n",
       "    </tr>\n",
       "    <tr>\n",
       "      <th>Solitary</th>\n",
       "      <td>235.757643</td>\n",
       "      <td>118.659500</td>\n",
       "      <td>11.464286</td>\n",
       "      <td>13.178571</td>\n",
       "    </tr>\n",
       "    <tr>\n",
       "      <th rowspan=\"2\" valign=\"top\">ARENA 4</th>\n",
       "      <th>Group</th>\n",
       "      <td>190.021186</td>\n",
       "      <td>95.261698</td>\n",
       "      <td>12.976744</td>\n",
       "      <td>12.046512</td>\n",
       "    </tr>\n",
       "    <tr>\n",
       "      <th>Solitary</th>\n",
       "      <td>217.201429</td>\n",
       "      <td>79.864929</td>\n",
       "      <td>11.428571</td>\n",
       "      <td>12.357143</td>\n",
       "    </tr>\n",
       "    <tr>\n",
       "      <th rowspan=\"2\" valign=\"top\">ARENA 5</th>\n",
       "      <th>Group</th>\n",
       "      <td>158.030767</td>\n",
       "      <td>97.985395</td>\n",
       "      <td>14.139535</td>\n",
       "      <td>12.372093</td>\n",
       "    </tr>\n",
       "    <tr>\n",
       "      <th>Solitary</th>\n",
       "      <td>208.840812</td>\n",
       "      <td>85.889875</td>\n",
       "      <td>11.062500</td>\n",
       "      <td>13.187500</td>\n",
       "    </tr>\n",
       "    <tr>\n",
       "      <th rowspan=\"2\" valign=\"top\">ARENA 6</th>\n",
       "      <th>Group</th>\n",
       "      <td>179.582605</td>\n",
       "      <td>83.246789</td>\n",
       "      <td>11.263158</td>\n",
       "      <td>11.026316</td>\n",
       "    </tr>\n",
       "    <tr>\n",
       "      <th>Solitary</th>\n",
       "      <td>186.562679</td>\n",
       "      <td>80.711714</td>\n",
       "      <td>13.857143</td>\n",
       "      <td>14.321429</td>\n",
       "    </tr>\n",
       "  </tbody>\n",
       "</table>\n",
       "</div>"
      ],
      "text/plain": [
       "                   Time_LargeShoal  Time_SmallShoal  Front_entries  \\\n",
       "        TREATMENT                                                    \n",
       "ARENA 1 Group           205.041000        89.844824      11.735294   \n",
       "        Solitary        195.721217       121.681000      13.695652   \n",
       "ARENA 2 Group           191.953500        90.442250      10.142857   \n",
       "        Solitary        176.479929        93.574393      13.000000   \n",
       "ARENA 3 Group           163.038176       103.395765      10.764706   \n",
       "        Solitary        235.757643       118.659500      11.464286   \n",
       "ARENA 4 Group           190.021186        95.261698      12.976744   \n",
       "        Solitary        217.201429        79.864929      11.428571   \n",
       "ARENA 5 Group           158.030767        97.985395      14.139535   \n",
       "        Solitary        208.840812        85.889875      11.062500   \n",
       "ARENA 6 Group           179.582605        83.246789      11.263158   \n",
       "        Solitary        186.562679        80.711714      13.857143   \n",
       "\n",
       "                   Back_entries  \n",
       "        TREATMENT                \n",
       "ARENA 1 Group         11.147059  \n",
       "        Solitary      12.695652  \n",
       "ARENA 2 Group          9.678571  \n",
       "        Solitary      11.321429  \n",
       "ARENA 3 Group          9.264706  \n",
       "        Solitary      13.178571  \n",
       "ARENA 4 Group         12.046512  \n",
       "        Solitary      12.357143  \n",
       "ARENA 5 Group         12.372093  \n",
       "        Solitary      13.187500  \n",
       "ARENA 6 Group         11.026316  \n",
       "        Solitary      14.321429  "
      ]
     },
     "execution_count": 8,
     "metadata": {},
     "output_type": "execute_result"
    }
   ],
   "source": [
    "arena_sizes = data['ARENA'].unique()\n",
    "subgroup_results = {}\n",
    "for arena in sorted(arena_sizes):\n",
    "    arena_data = data[data['ARENA'] == arena]\n",
    "    metrics_mean = arena_data.groupby('TREATMENT')[['Time_LargeShoal', 'Time_SmallShoal', 'Front_entries', 'Back_entries']].mean()\n",
    "    subgroup_results[f'ARENA {arena}'] = metrics_mean\n",
    "\n",
    "subgroup_results_df = pd.concat(subgroup_results, axis=0)\n",
    "subgroup_results_df\n"
   ]
  },
  {
   "cell_type": "markdown",
   "metadata": {},
   "source": [
    "# \"STAGE\": The stage of the fish's life cycle as moderator "
   ]
  },
  {
   "cell_type": "code",
   "execution_count": 9,
   "metadata": {},
   "outputs": [
    {
     "data": {
      "text/html": [
       "<div>\n",
       "<style scoped>\n",
       "    .dataframe tbody tr th:only-of-type {\n",
       "        vertical-align: middle;\n",
       "    }\n",
       "\n",
       "    .dataframe tbody tr th {\n",
       "        vertical-align: top;\n",
       "    }\n",
       "\n",
       "    .dataframe thead th {\n",
       "        text-align: right;\n",
       "    }\n",
       "</style>\n",
       "<table border=\"1\" class=\"dataframe\">\n",
       "  <thead>\n",
       "    <tr style=\"text-align: right;\">\n",
       "      <th></th>\n",
       "      <th></th>\n",
       "      <th>Time_LargeShoal</th>\n",
       "      <th>Time_SmallShoal</th>\n",
       "      <th>Front_entries</th>\n",
       "      <th>Back_entries</th>\n",
       "    </tr>\n",
       "    <tr>\n",
       "      <th></th>\n",
       "      <th>TREATMENT</th>\n",
       "      <th></th>\n",
       "      <th></th>\n",
       "      <th></th>\n",
       "      <th></th>\n",
       "    </tr>\n",
       "  </thead>\n",
       "  <tbody>\n",
       "    <tr>\n",
       "      <th rowspan=\"2\" valign=\"top\">STAGE After</th>\n",
       "      <th>Group</th>\n",
       "      <td>191.874432</td>\n",
       "      <td>84.572703</td>\n",
       "      <td>11.440678</td>\n",
       "      <td>10.711864</td>\n",
       "    </tr>\n",
       "    <tr>\n",
       "      <th>Solitary</th>\n",
       "      <td>240.378055</td>\n",
       "      <td>104.996548</td>\n",
       "      <td>13.013699</td>\n",
       "      <td>14.328767</td>\n",
       "    </tr>\n",
       "    <tr>\n",
       "      <th rowspan=\"2\" valign=\"top\">STAGE Before</th>\n",
       "      <th>Group</th>\n",
       "      <td>167.044902</td>\n",
       "      <td>103.882225</td>\n",
       "      <td>12.676471</td>\n",
       "      <td>11.470588</td>\n",
       "    </tr>\n",
       "    <tr>\n",
       "      <th>Solitary</th>\n",
       "      <td>157.854219</td>\n",
       "      <td>91.074047</td>\n",
       "      <td>12.109375</td>\n",
       "      <td>11.203125</td>\n",
       "    </tr>\n",
       "  </tbody>\n",
       "</table>\n",
       "</div>"
      ],
      "text/plain": [
       "                        Time_LargeShoal  Time_SmallShoal  Front_entries  \\\n",
       "             TREATMENT                                                    \n",
       "STAGE After  Group           191.874432        84.572703      11.440678   \n",
       "             Solitary        240.378055       104.996548      13.013699   \n",
       "STAGE Before Group           167.044902       103.882225      12.676471   \n",
       "             Solitary        157.854219        91.074047      12.109375   \n",
       "\n",
       "                        Back_entries  \n",
       "             TREATMENT                \n",
       "STAGE After  Group         10.711864  \n",
       "             Solitary      14.328767  \n",
       "STAGE Before Group         11.470588  \n",
       "             Solitary      11.203125  "
      ]
     },
     "execution_count": 9,
     "metadata": {},
     "output_type": "execute_result"
    }
   ],
   "source": [
    "life_stages = data['STAGE'].unique()\n",
    "subgroup_stage_results = {}\n",
    "for stage in life_stages:\n",
    "    stage_data = data[data['STAGE'] == stage]\n",
    "    \n",
    "    metrics_mean_stage = stage_data.groupby('TREATMENT')[['Time_LargeShoal', 'Time_SmallShoal', 'Front_entries', 'Back_entries']].mean()\n",
    "    subgroup_stage_results[f'STAGE {stage}'] = metrics_mean_stage\n",
    "subgroup_stage_results_df = pd.concat(subgroup_stage_results, axis=0)\n",
    "subgroup_stage_results_df\n"
   ]
  },
  {
   "cell_type": "markdown",
   "metadata": {},
   "source": [
    "## Machine Learning Techniques in examining heterogenous treatment affects\n"
   ]
  },
  {
   "cell_type": "markdown",
   "metadata": {},
   "source": [
    "##### preparing the data and splitting it into training and testing sets, using a boosting algorithm (Gradient Boosting)"
   ]
  },
  {
   "cell_type": "code",
   "execution_count": 10,
   "metadata": {},
   "outputs": [
    {
     "data": {
      "text/plain": [
       "(12671.19778324807, 0.04497722427915862)"
      ]
     },
     "execution_count": 10,
     "metadata": {},
     "output_type": "execute_result"
    }
   ],
   "source": [
    "from sklearn.model_selection import train_test_split\n",
    "from sklearn.ensemble import GradientBoostingRegressor\n",
    "from sklearn.metrics import mean_squared_error, r2_score\n",
    "X = data[['ARENA', 'TREATMENT', 'STAGE']]\n",
    "X = pd.get_dummies(X, drop_first=True)\n",
    "y = data['Total_time_Shoal']\n",
    "X_train, X_test, y_train, y_test = train_test_split(X, y, test_size=0.2, random_state=42)\n",
    "gbr = GradientBoostingRegressor(n_estimators=100, learning_rate=0.1, max_depth=3, random_state=42)\n",
    "gbr.fit(X_train, y_train)\n",
    "y_pred = gbr.predict(X_test)\n",
    "mse = mean_squared_error(y_test, y_pred)\n",
    "r2 = r2_score(y_test, y_pred)\n",
    "mse, r2\n"
   ]
  },
  {
   "cell_type": "markdown",
   "metadata": {},
   "source": [
    "### Feature Emportance "
   ]
  },
  {
   "cell_type": "code",
   "execution_count": 11,
   "metadata": {},
   "outputs": [
    {
     "data": {
      "text/plain": [
       "STAGE_Before          0.369051\n",
       "ARENA                 0.349961\n",
       "TREATMENT_Solitary    0.280988\n",
       "dtype: float64"
      ]
     },
     "execution_count": 11,
     "metadata": {},
     "output_type": "execute_result"
    }
   ],
   "source": [
    "feature_importances = pd.Series(gbr.feature_importances_, index=X.columns).sort_values(ascending=False)\n",
    "\n",
    "feature_importances\n"
   ]
  },
  {
   "cell_type": "markdown",
   "metadata": {},
   "source": [
    "## Refining the model "
   ]
  },
  {
   "cell_type": "markdown",
   "metadata": {},
   "source": [
    " Incorporating more variables"
   ]
  },
  {
   "cell_type": "code",
   "execution_count": 12,
   "metadata": {},
   "outputs": [
    {
     "data": {
      "text/plain": [
       "(251.7897686133066, 0.9810227124670807)"
      ]
     },
     "execution_count": 12,
     "metadata": {},
     "output_type": "execute_result"
    }
   ],
   "source": [
    "# Incorporating more variables into the model\n",
    "X_enhanced = data[['ARENA', 'TREATMENT', 'STAGE', 'Front_entries', 'Back_entries', 'Time_LargeShoal', 'Time_SmallShoal']]\n",
    "X_enhanced = pd.get_dummies(X_enhanced, drop_first=True)  # One-hot encoding categorical variables\n",
    "\n",
    "X_train_enhanced, X_test_enhanced, y_train, y_test = train_test_split(X_enhanced, y, test_size=0.2, random_state=42)\n",
    "\n",
    "gbr_enhanced = GradientBoostingRegressor(n_estimators=100, learning_rate=0.1, max_depth=3, random_state=42)\n",
    "gbr_enhanced.fit(X_train_enhanced, y_train)\n",
    "y_pred_enhanced = gbr_enhanced.predict(X_test_enhanced)\n",
    "mse_enhanced = mean_squared_error(y_test, y_pred_enhanced)\n",
    "r2_enhanced = r2_score(y_test, y_pred_enhanced)\n",
    "mse_enhanced, r2_enhanced\n"
   ]
  },
  {
   "cell_type": "markdown",
   "metadata": {},
   "source": [
    "##  Feature Importance Analysis "
   ]
  },
  {
   "cell_type": "code",
   "execution_count": 13,
   "metadata": {},
   "outputs": [
    {
     "data": {
      "text/plain": [
       "Time_LargeShoal       0.832864\n",
       "Time_SmallShoal       0.165270\n",
       "Back_entries          0.001028\n",
       "Front_entries         0.000590\n",
       "ARENA                 0.000176\n",
       "STAGE_Before          0.000047\n",
       "TREATMENT_Solitary    0.000023\n",
       "dtype: float64"
      ]
     },
     "execution_count": 13,
     "metadata": {},
     "output_type": "execute_result"
    }
   ],
   "source": [
    "feature_importances_enhanced = pd.Series(gbr_enhanced.feature_importances_, index=X_enhanced.columns).sort_values(ascending=False)\n",
    "\n",
    "feature_importances_enhanced\n"
   ]
  },
  {
   "cell_type": "markdown",
   "metadata": {},
   "source": [
    "## Investigating Model Residuals"
   ]
  },
  {
   "cell_type": "code",
   "execution_count": 14,
   "metadata": {},
   "outputs": [
    {
     "data": {
      "image/png": "[encoded data removed]",
      "text/plain": [
       "<Figure size 1000x600 with 1 Axes>"
      ]
     },
     "metadata": {},
     "output_type": "display_data"
    },
    {
     "data": {
      "image/png": "[encoded data removed]",
      "text/plain": [
       "<Figure size 1000x600 with 1 Axes>"
      ]
     },
     "metadata": {},
     "output_type": "display_data"
    },
    {
     "data": {
      "text/plain": [
       "(0.8686143958023176, 15.84409283123245)"
      ]
     },
     "execution_count": 14,
     "metadata": {},
     "output_type": "execute_result"
    }
   ],
   "source": [
    "import numpy as np\n",
    "residuals = y_test - y_pred_enhanced\n",
    "# Plotting residuals\n",
    "plt.figure(figsize=(10, 6))\n",
    "plt.scatter(y_pred_enhanced, residuals)\n",
    "plt.axhline(y=0, color='r', linestyle='--')\n",
    "plt.title('Residuals vs. Predicted Values')\n",
    "plt.xlabel('Predicted Total Time in Shoal')\n",
    "plt.ylabel('Residuals')\n",
    "plt.show()\n",
    "# Plotting the distribution of residuals\n",
    "plt.figure(figsize=(10, 6))\n",
    "sns.histplot(residuals, bins=30, kde=True)\n",
    "plt.title('Distribution of Residuals')\n",
    "plt.xlabel('Residuals')\n",
    "plt.ylabel('Frequency')\n",
    "plt.show()\n",
    "residuals_mean = np.mean(residuals)\n",
    "residuals_std = np.std(residuals)\n",
    "residuals_mean, residuals_std\n"
   ]
  }
 ],
 "metadata": {
  "kernelspec": {
   "display_name": "Python 3",
   "language": "python",
   "name": "python3"
  },
  "language_info": {
   "codemirror_mode": {
    "name": "ipython",
    "version": 3
   },
   "file_extension": ".py",
   "mimetype": "text/x-python",
   "name": "python",
   "nbconvert_exporter": "python",
   "pygments_lexer": "ipython3",
   "version": "3.12.1"
  }
 },
 "nbformat": 4,
 "nbformat_minor": 2
}
